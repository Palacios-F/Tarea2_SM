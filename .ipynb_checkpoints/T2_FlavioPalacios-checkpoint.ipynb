{
 "cells": [
  {
   "cell_type": "markdown",
   "metadata": {},
   "source": [
    "# Resumen sobre Python"
   ]
  },
  {
   "cell_type": "markdown",
   "metadata": {},
   "source": [
    "## Why Python is so popular with developers: 3 reasons the language has exploded\n",
    "\n",
    "Python se ha convertido en el lenguaje de programación que ha crecido más rápidamente en el mundo. Su popularidad se debe a un conjunto robusto de librerías y como es un lenguaje orientado a objetos le permite crear una variedad larga de cosas desde un sitio web, apps y modelaje de datos. Dentro de las 3 razones por las que ha sido muy popular están las siguientes:\n",
    "\n",
    "### Sencillo de aprender\n",
    "\n",
    "Es considerado como uno de los lenguajes más sencillos de aprender por su sintaxis simple lo que permite que sea sencillo de aprender para personas que apenas se están adentrando en el mundo de la programación. Su sintaxis es muy sencilla casi tan sencilla de leer como un idioma como el inglés y permite enfocarse más en lo que se quiere lograr que preocuparse en por ejemplo la declaración de los tipos de variables de otros tipos de lenguajes que son más de bajo nivel.\n",
    "\n",
    "### Explosión de la IA, machine learning y data science\n",
    "\n",
    "En los últimos años se ha visto un incremento en estas áreas impulsado por distintas eventos como la mejora del hardware y la cantidad de información que se dispone actualmente lo que ha permitido un boom en estas áreas y Python ha aprovechado porque dispones de una gran cantidad de librerías que son de gran ayuda como por ejemplo para el Machine Learning como Keras y TensorFlow.\n",
    "\n",
    "### Una gran comunidad\n",
    "\n",
    "Python se ha convertido en uno de los lenguajes que más se ha buscado en Internet en los últimos años y no solo eso existe una gran comunidad que puede ayudar para resolver problemas además de que cuenta con una gran variedad de librerías de acceso libre.\n",
    "\n",
    "**Bibliografía:**  \n",
    "[https://www.techrepublic.com/article/why-python-is-so-popular-with-developers-3-reasons-the-language-has-exploded/](https://www.techrepublic.com/article/why-python-is-so-popular-with-developers-3-reasons-the-language-has-exploded/)"
   ]
  },
  {
   "cell_type": "markdown",
   "metadata": {},
   "source": [
    "## 5 REASONS YOU SHOULD LEARN PYTHON NOW\n",
    "\n",
    "Python se ha convertido en el lenguaje de programación más popular para los cursos introductorios en las universidades de Estados Unidos y de acuerdo a IEEE survey es el cuarto lenguaje detrás de los clásicos Java, C y C++.\n",
    "Una de las claves por las que es demasiado útil Python es que es sencillo de usar, poderoso y versátil siendo una gran opción para tanto principiantes como expertos. \n",
    "Un ejemplo de ello es como imprimir la clásica frase de \"Hello World\"\n",
    "![](https://www.pluralsight.com/content/pluralsight/en/blog/software-development/why/why-python/jcr:content/main/image/image-res.img.b2498e3a-c30b-4bb7-a4a4-49f29eb5d82f.png)\n",
    "\n",
    "Es un lenguaje que es sencillo de descargar e instalar y por ser sencillo de entender permite concentrarse en los conceptos más que en ver cómo hacer correr el programa. Sin embargo a pesar de que es sencillo de usar es muy útil por lo que empresas como Google, Dropbox, Spotify y Netflix lo usan. Por ejemplo al inicio en Google existía la frase:\n",
    "> \"Python where we can, c++ where we must\"\n",
    "\n",
    "Python con su gran variedad de librerías permite entonces desde crear videojuegos, procesar imágenes, hacer ciencia de datos, machine learning o más o menos cualquier cosa que se te ocurra y la ventaja es que permite empezar sin tener que escribir todo el código para reinventar la rueda.\n",
    "\n",
    "**Bibliografía**\n",
    "[https://www.pluralsight.com/blog/software-development/why-python](https://www.pluralsight.com/blog/software-development/why-python)\n"
   ]
  }
 ],
 "metadata": {
  "kernelspec": {
   "display_name": "Python 3",
   "language": "python",
   "name": "python3"
  },
  "language_info": {
   "codemirror_mode": {
    "name": "ipython",
    "version": 3
   },
   "file_extension": ".py",
   "mimetype": "text/x-python",
   "name": "python",
   "nbconvert_exporter": "python",
   "pygments_lexer": "ipython3",
   "version": "3.7.4"
  }
 },
 "nbformat": 4,
 "nbformat_minor": 2
}
